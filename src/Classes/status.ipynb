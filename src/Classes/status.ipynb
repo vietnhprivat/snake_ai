{
 "cells": [
  {
   "cell_type": "code",
   "execution_count": 7,
   "metadata": {},
   "outputs": [],
   "source": [
    "import numpy as np\n",
    "import matplotlib.pyplot as plt\n",
    "import pandas as pd\n",
    "import pickle"
   ]
  },
  {
   "cell_type": "code",
   "execution_count": 8,
   "metadata": {},
   "outputs": [
    {
     "name": "stderr",
     "output_type": "stream",
     "text": [
      "C:\\Users\\vietn\\AppData\\Local\\Temp\\ipykernel_18284\\3150483777.py:22: FutureWarning: The behavior of DataFrame concatenation with empty or all-NA entries is deprecated. In a future version, this will no longer exclude empty or all-NA columns when determining the result dtypes. To retain the old behavior, exclude the relevant entries before the concat operation.\n",
      "  dataframe = pd.concat([dataframe, new_row], axis=0, ignore_index=True)\n"
     ]
    },
    {
     "data": {
      "text/html": [
       "<div>\n",
       "<style scoped>\n",
       "    .dataframe tbody tr th:only-of-type {\n",
       "        vertical-align: middle;\n",
       "    }\n",
       "\n",
       "    .dataframe tbody tr th {\n",
       "        vertical-align: top;\n",
       "    }\n",
       "\n",
       "    .dataframe thead th {\n",
       "        text-align: right;\n",
       "    }\n",
       "</style>\n",
       "<table border=\"1\" class=\"dataframe\">\n",
       "  <thead>\n",
       "    <tr style=\"text-align: right;\">\n",
       "      <th></th>\n",
       "      <th>model</th>\n",
       "      <th>high_scores</th>\n",
       "      <th>mean_last_100</th>\n",
       "      <th>games</th>\n",
       "      <th>epsilon</th>\n",
       "      <th>steps</th>\n",
       "      <th>progress</th>\n",
       "    </tr>\n",
       "  </thead>\n",
       "  <tbody>\n",
       "    <tr>\n",
       "      <th>0</th>\n",
       "      <td>grid</td>\n",
       "      <td>40.0</td>\n",
       "      <td>1.1</td>\n",
       "      <td>75750</td>\n",
       "      <td>0.01</td>\n",
       "      <td>4716998.0</td>\n",
       "      <td>94.34%</td>\n",
       "    </tr>\n",
       "  </tbody>\n",
       "</table>\n",
       "</div>"
      ],
      "text/plain": [
       "  model  high_scores  mean_last_100  games  epsilon      steps progress\n",
       "0  grid         40.0            1.1  75750     0.01  4716998.0   94.34%"
      ]
     },
     "execution_count": 8,
     "metadata": {},
     "output_type": "execute_result"
    }
   ],
   "source": [
    "# Status\n",
    "model = ['grid']\n",
    "dataframe = pd.DataFrame(columns=['model', 'high_scores','mean_last_100', 'games','epsilon', 'steps', 'progress'])\n",
    "\n",
    "for name in model:\n",
    "    file_path = f'DQL_PLOT/TEST_PLOTS/plot_file_{name}_16_01.pkl'\n",
    "    with open(file_path, 'rb') as file:\n",
    "        data_load = pickle.load(file)\n",
    "        data_load = np.array(data_load)\n",
    "\n",
    "    new_row = {'model': [name],\n",
    "            'high_scores': np.max(data_load[0]),\n",
    "            'mean_last_100': np.mean(data_load[0][-100:]),\n",
    "            'games': np.size(data_load[0]),\n",
    "            'epsilon': [data_load[-1, -1]],\n",
    "            'steps': np.sum(data_load[1]),\n",
    "            'progress': f\"{np.round((np.sum(data_load[1]) / 5_000_000)*100,2)}%\"\n",
    "            }\n",
    "    \n",
    "    new_row = pd.DataFrame(new_row)\n",
    "    \n",
    "    dataframe = pd.concat([dataframe, new_row], axis=0, ignore_index=True)\n",
    "\n",
    "dataframe\n"
   ]
  },
  {
   "cell_type": "code",
   "execution_count": null,
   "metadata": {},
   "outputs": [],
   "source": []
  },
  {
   "cell_type": "code",
   "execution_count": null,
   "metadata": {},
   "outputs": [],
   "source": []
  }
 ],
 "metadata": {
  "kernelspec": {
   "display_name": "intelsys",
   "language": "python",
   "name": "python3"
  },
  "language_info": {
   "codemirror_mode": {
    "name": "ipython",
    "version": 3
   },
   "file_extension": ".py",
   "mimetype": "text/x-python",
   "name": "python",
   "nbconvert_exporter": "python",
   "pygments_lexer": "ipython3",
   "version": "3.10.12"
  }
 },
 "nbformat": 4,
 "nbformat_minor": 2
}
