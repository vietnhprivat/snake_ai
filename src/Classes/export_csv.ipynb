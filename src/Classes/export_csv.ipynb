{
 "cells": [
  {
   "cell_type": "code",
   "execution_count": 4,
   "metadata": {},
   "outputs": [],
   "source": [
    "import pandas as pd\n",
    "import numpy as np\n",
    "import pickle\n",
    "\n",
    "# Load from dql\n",
    "def load_data_dql(file_path=None):\n",
    "\n",
    "    with open(file_path, 'rb') as file:\n",
    "        data = pickle.load(file)\n",
    "        data = np.array(data)\n",
    "    \n",
    "        \n",
    "    data = {'scores': data[0],\n",
    "            'apple': data[1],\n",
    "            'epsilon': data[2],\n",
    "            'game': np.arange(len(data[0])),\n",
    "            'steps' : np.cumsum(data[1])\n",
    "            }\n",
    "    dataframe = pd.DataFrame(data = data)\n",
    "    return dataframe\n",
    "\n",
    "# Load from tql\n",
    "def load_data_tql(file_path=None):\n",
    "    \n",
    "    with open(file_path, 'rb') as file:\n",
    "            data = pickle.load(file)\n",
    "            data = np.array(data)\n",
    "\n",
    "    data = {'scores': data[0], 'apple': data[1]}\n",
    "    dataframe = pd.DataFrame(data = data)\n",
    "    return dataframe\n",
    "    \n",
    "# Export as csv from pickle\n",
    "def export_csv(dataframe=None, save_path=None):\n",
    "    return dataframe.to_csv(save_path, index=False)\n",
    "\n",
    "\n",
    "# Example: export dql onestep as csv\n",
    "input_path = \"DQL_PLOT/TEST_PLOTS/vector_training_17_01.pkl\"\n",
    "save_path = \"DQL_PLOT/TEST_PLOTS/vector_17_01.csv\"\n",
    "\n",
    "df = load_data_dql(input_path)\n",
    "export_csv(df, save_path)\n"
   ]
  }
 ],
 "metadata": {
  "kernelspec": {
   "display_name": "intelsys",
   "language": "python",
   "name": "python3"
  },
  "language_info": {
   "codemirror_mode": {
    "name": "ipython",
    "version": 3
   },
   "file_extension": ".py",
   "mimetype": "text/x-python",
   "name": "python",
   "nbconvert_exporter": "python",
   "pygments_lexer": "ipython3",
   "version": "3.10.12"
  }
 },
 "nbformat": 4,
 "nbformat_minor": 2
}
